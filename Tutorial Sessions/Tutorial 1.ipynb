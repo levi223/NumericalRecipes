{
 "cells": [
  {
   "cell_type": "code",
   "execution_count": 1,
   "metadata": {},
   "outputs": [],
   "source": [
    "import numpy as np\n",
    "import timeit as ti"
   ]
  },
  {
   "attachments": {},
   "cell_type": "markdown",
   "metadata": {},
   "source": [
    "# Core exercises"
   ]
  },
  {
   "attachments": {},
   "cell_type": "markdown",
   "metadata": {},
   "source": [
    "## 1. Numerical errors"
   ]
  },
  {
   "attachments": {},
   "cell_type": "markdown",
   "metadata": {},
   "source": [
    "### A"
   ]
  },
  {
   "cell_type": "code",
   "execution_count": 19,
   "metadata": {},
   "outputs": [
    {
     "name": "stdout",
     "output_type": "stream",
     "text": [
      "0.09385522838839812 0.09385522838839844\n"
     ]
    }
   ],
   "source": [
    "def np_sinc(x):\n",
    "    return np.sin(x) / x\n",
    "\n",
    "def power_sinc(x, order):\n",
    "    val = 0 \n",
    "    for n in range(order):\n",
    "        val = val + (-1)**n * x**(2*n) / np.math.factorial(2*n + 1)\n",
    "    return val\n",
    "\n",
    "print(power_sinc(7,20),np_sinc(7))"
   ]
  },
  {
   "attachments": {},
   "cell_type": "markdown",
   "metadata": {},
   "source": [
    "### B"
   ]
  },
  {
   "cell_type": "code",
   "execution_count": 22,
   "metadata": {},
   "outputs": [
    {
     "name": "stdout",
     "output_type": "stream",
     "text": [
      "Order = 0 Error = 0.09385522838839844\n",
      "Order = 1 Error = -0.9061447716116016\n",
      "Order = 2 Error = 7.2605218950550645\n",
      "Order = 3 Error = -12.74781143827827\n",
      "Order = 4 Error = 10.595244117277286\n",
      "Order = 5 Error = -5.291002024698021\n",
      "Order = 6 Error = 1.7855985294546164\n",
      "Order = 7 Error = -0.4371798497343531\n",
      "Order = 8 Error = 0.08146843874307308\n",
      "Order = 9 Error = -0.011964524989992675\n",
      "Order = 10 Error = 0.0014220692290723008\n",
      "Order = 11 Error = -0.00013970009648528459\n",
      "Order = 12 Error = 1.1538435041036355e-05\n",
      "Order = 13 Error = -8.127117002848516e-07\n",
      "Order = 14 Error = 4.9405379953793016e-08\n",
      "Order = 15 Error = -2.6189266172371717e-09\n",
      "Order = 16 Error = 1.2213899336366296e-10\n",
      "Order = 17 Error = -5.0505988280491465e-12\n",
      "Order = 18 Error = 1.86614612651681e-13\n",
      "Order = 19 Error = -6.050715484207103e-15\n"
     ]
    }
   ],
   "source": [
    "for i in range(20):\n",
    "    print(f\"Order = {i}\", \"Error =\", np_sinc(7)- power_sinc(7, i))"
   ]
  },
  {
   "attachments": {},
   "cell_type": "markdown",
   "metadata": {},
   "source": [
    "The values oscellate between posive and negative. This is likely a remnant of the oscellating nature of sine itself and is visible in the (-1)**n term in the power series"
   ]
  },
  {
   "attachments": {},
   "cell_type": "markdown",
   "metadata": {},
   "source": [
    "### C"
   ]
  },
  {
   "cell_type": "code",
   "execution_count": 33,
   "metadata": {},
   "outputs": [
    {
     "name": "stdout",
     "output_type": "stream",
     "text": [
      "Order = 0 Error diff = -1.0076125156466276e-08\n",
      "Order = 1 Error diff = -1.0076125156466276e-08\n",
      "Order = 2 Error diff = -1.0076125156466276e-08\n",
      "Order = 3 Error diff = -1.0076125156466276e-08\n",
      "Order = 4 Error diff = -1.0076125156466276e-08\n",
      "Order = 5 Error diff = -1.0076125156466276e-08\n",
      "Order = 6 Error diff = -1.0076125156466276e-08\n",
      "Order = 7 Error diff = -1.0076125156466276e-08\n",
      "Order = 8 Error diff = -1.0076125156466276e-08\n",
      "Order = 9 Error diff = -1.0076125156466276e-08\n",
      "Order = 10 Error diff = -1.0076125156466276e-08\n",
      "Order = 11 Error diff = -1.0076125156466276e-08\n",
      "Order = 12 Error diff = -1.0076125156466276e-08\n",
      "Order = 13 Error diff = -1.0076125156466276e-08\n",
      "Order = 14 Error diff = -1.0076125156466276e-08\n",
      "Order = 15 Error diff = -1.0076125156466276e-08\n",
      "Order = 16 Error diff = -1.0076125156466276e-08\n",
      "Order = 17 Error diff = -1.0076125156466276e-08\n",
      "Order = 18 Error diff = -1.0076125156466276e-08\n",
      "Order = 19 Error diff = -1.0076125156466276e-08\n"
     ]
    }
   ],
   "source": [
    "#redifine numpy implementation based on 32 bit\n",
    "\n",
    "def np_sinc_single(x):\n",
    "    return np.sin(x, dtype=\"float32\" )/ x\n",
    "\n",
    "def np_sinc_double(x):\n",
    "    return np.sin(x)/ x\n",
    "\n",
    "for i in range(20):\n",
    "    #print(f\"Order = {i}\", \"Single_Error =\", np_sinc_single(2)- power_sinc(2, i))\n",
    "    #print(f\"Order = {i}\", \"Double_Error =\", np_sinc_double(2)- power_sinc(2, i))\n",
    "    print(f\"Order = {i}\", \"Error diff =\", (np_sinc_single(2)- power_sinc(2, i))-(np_sinc_double(2)- power_sinc(2, i)))"
   ]
  },
  {
   "attachments": {},
   "cell_type": "markdown",
   "metadata": {},
   "source": [
    "The error difference between double and single precision is very consistent"
   ]
  },
  {
   "attachments": {},
   "cell_type": "markdown",
   "metadata": {},
   "source": [
    "# 2. A short timing test"
   ]
  },
  {
   "attachments": {},
   "cell_type": "markdown",
   "metadata": {},
   "source": [
    "### A"
   ]
  },
  {
   "cell_type": "code",
   "execution_count": 39,
   "metadata": {},
   "outputs": [],
   "source": [
    "#generate data from Gaussian\n",
    "SMBH_data = np.random.normal(10**6, 10**5, 1000)\n",
    "#convert to solar mass\n",
    "SMBH_data = SMBH_data * 1,989*10**30"
   ]
  },
  {
   "attachments": {},
   "cell_type": "markdown",
   "metadata": {},
   "source": [
    "### B"
   ]
  },
  {
   "cell_type": "code",
   "execution_count": 50,
   "metadata": {},
   "outputs": [
    {
     "name": "stdout",
     "output_type": "stream",
     "text": [
      "8.57 µs ± 97.4 ns per loop (mean ± std. dev. of 7 runs, 100,000 loops each)\n"
     ]
    }
   ],
   "source": [
    "%%timeit\n",
    "def schwarzchild_exb(M):\n",
    "    return 2 * 6.6743 *  10**(-11) * M / (2.998*10**8)**2\n",
    "\n",
    "radii_b =[schwarzchild_exb(i)for i in SMBH_data]"
   ]
  },
  {
   "attachments": {},
   "cell_type": "markdown",
   "metadata": {},
   "source": [
    "### C"
   ]
  },
  {
   "cell_type": "code",
   "execution_count": 52,
   "metadata": {},
   "outputs": [
    {
     "name": "stdout",
     "output_type": "stream",
     "text": [
      "7.03 µs ± 51.4 ns per loop (mean ± std. dev. of 7 runs, 100,000 loops each)\n"
     ]
    }
   ],
   "source": [
    "%%timeit\n",
    "c_inv= 1/(2.998*10**8) #m/s\n",
    "c_inv2 = c_inv * c_inv\n",
    "G = 6.6743 *  10**(-11) #m3 kg-1 s-2\n",
    "def schwarzchild_exc(M):\n",
    "    return 2 * G * M * c_inv2\n",
    "\n",
    "radii_c =[schwarzchild_exc(i)for i in SMBH_data]"
   ]
  },
  {
   "cell_type": "markdown",
   "metadata": {},
   "source": [
    "# 3, 4 Git BASICS and python repo on github"
   ]
  },
  {
   "cell_type": "markdown",
   "metadata": {},
   "source": [
    "Python repo and git has been set up on github (levi223)"
   ]
  },
  {
   "cell_type": "markdown",
   "metadata": {},
   "source": [
    "# 5.  ADVANCED EXERCISES - compute area polygon"
   ]
  },
  {
   "cell_type": "code",
   "execution_count": 38,
   "metadata": {},
   "outputs": [],
   "source": [
    "def polygon_area(x,y):\n",
    "    length = len(x)\n",
    "    sum = 0\n",
    "    for count in range(len(x)): \n",
    "        sum+= x[count]*y[(count+1)%length] - x[(count+1)%length]* y[count]\n",
    "    return np.abs(0.5 * sum)"
   ]
  },
  {
   "cell_type": "markdown",
   "metadata": {},
   "source": [
    "Triangle"
   ]
  },
  {
   "cell_type": "code",
   "execution_count": 36,
   "metadata": {},
   "outputs": [
    {
     "name": "stdout",
     "output_type": "stream",
     "text": [
      "8.05 µs ± 497 ns per loop (mean ± std. dev. of 7 runs, 100,000 loops each)\n"
     ]
    }
   ],
   "source": [
    "%%timeit\n",
    "#triangle\n",
    "x_tri= [0, 1, 2]\n",
    "y_tri = [0,1,0]\n",
    "polygon_area(x_tri,y_tri)\n"
   ]
  },
  {
   "cell_type": "markdown",
   "metadata": {},
   "source": [
    "Quadralateral"
   ]
  },
  {
   "cell_type": "code",
   "execution_count": 37,
   "metadata": {},
   "outputs": [
    {
     "name": "stdout",
     "output_type": "stream",
     "text": [
      "6.78 µs ± 480 ns per loop (mean ± std. dev. of 7 runs, 100,000 loops each)\n"
     ]
    }
   ],
   "source": [
    "%%timeit\n",
    "#quadralateral\n",
    "x_quad= [0, 1, 2,3]\n",
    "y_quad = [0,1.5,2,0]\n",
    "polygon_area(x_quad,y_quad)"
   ]
  },
  {
   "cell_type": "markdown",
   "metadata": {},
   "source": [
    "### C\n",
    "Vectorize the code"
   ]
  },
  {
   "cell_type": "code",
   "execution_count": null,
   "metadata": {},
   "outputs": [],
   "source": [
    "def "
   ]
  }
 ],
 "metadata": {
  "kernelspec": {
   "display_name": "Python 3.11.0 64-bit",
   "language": "python",
   "name": "python3"
  },
  "language_info": {
   "codemirror_mode": {
    "name": "ipython",
    "version": 3
   },
   "file_extension": ".py",
   "mimetype": "text/x-python",
   "name": "python",
   "nbconvert_exporter": "python",
   "pygments_lexer": "ipython3",
   "version": "3.11.0"
  },
  "orig_nbformat": 4,
  "vscode": {
   "interpreter": {
    "hash": "b8a1ff0dd1162b957d305ad259b54eba92501bff8b083331d9967960383c4b16"
   }
  }
 },
 "nbformat": 4,
 "nbformat_minor": 2
}
