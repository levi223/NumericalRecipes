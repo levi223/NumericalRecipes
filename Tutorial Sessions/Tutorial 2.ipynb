{
 "cells": [
  {
   "cell_type": "markdown",
   "metadata": {},
   "source": [
    "# NUR Turorial 2"
   ]
  },
  {
   "cell_type": "markdown",
   "metadata": {},
   "source": [
    "## 1 One - dimensionsal interpolation"
   ]
  },
  {
   "cell_type": "code",
   "execution_count": 2,
   "metadata": {},
   "outputs": [],
   "source": [
    "import numpy as np\n",
    "import matplotlib.pyplot as plt"
   ]
  },
  {
   "cell_type": "markdown",
   "metadata": {},
   "source": [
    "# A"
   ]
  },
  {
   "cell_type": "code",
   "execution_count": null,
   "metadata": {},
   "outputs": [],
   "source": [
    "#A\n",
    "class LinearInterpol(): \n",
    "    def __init__(self,x,y) -> None:\n",
    "        self.x = x \n",
    "        self.y= y\n",
    "\n",
    "    def find_closest_lowest_index(self, x) -> int:\n",
    "        slicing_list = self.x \n",
    "        index_list = [index for index in range(0,len(self.x))]\n",
    "        list_len= len(slicing_list)\n",
    "        while list_len > 1: \n",
    "            middle_index = int(np.math.floor(list_len/2))\n",
    "            #update condition\n",
    "            if x > slicing_list[middle_index]:\n",
    "                slicing_list = slicing_list[middle_index:]\n",
    "                index_list = index_list[middle_index:]\n",
    "            else: \n",
    "                slicing_list = slicing_list[:middle_index]\n",
    "                index_list = index_list[:middle_index]\n",
    "            list_len = len(slicing_list)\n",
    "        return index_list[0]\n",
    "\n",
    "    def interpolate(self, x) -> float:\n",
    "        neighbours = self.find_closest_lowest_index(x)\n",
    "        y_left = self.y[neighbours]\n",
    "        y_right = self.y[neighbours+1]\n",
    "        x_left =  self.x[neighbours]\n",
    "        x_right = self.x[neighbours+1]\n",
    "        dydx = (y_right-y_left) / (x_right-x_left)\n",
    "        interpolated_value = y_left + dydx * (x-x_left)\n",
    "        return interpolated_value\n"
   ]
  },
  {
   "cell_type": "code",
   "execution_count": null,
   "metadata": {},
   "outputs": [],
   "source": [
    "#create data and initiate linear interpol\n",
    "x = np.linspace(0,2*np.pi, 12)\n",
    "y = np.sin(x)\n",
    "interpol = LinearInterpol(x,y)\n"
   ]
  },
  {
   "cell_type": "code",
   "execution_count": null,
   "metadata": {},
   "outputs": [],
   "source": [
    "plt.plot(x,y, label=\"real\")\n",
    "for i in np.linspace(0,2*np.pi-0.5, 10):\n",
    "    plt.scatter(i, interpol.interpolate(i), label=\"interpolated\")\n",
    "\n",
    "plt.legend()"
   ]
  },
  {
   "attachments": {},
   "cell_type": "markdown",
   "metadata": {},
   "source": [
    "## B\n",
    "\n",
    "using nevilles algorithm calculate higher order interpolations\n",
    "\n",
    "\n",
    "natural spline = $\\quad S_1''(t_0)=S_n''(t_n)=0$\n",
    "\n",
    "https://www.math.ntnu.no/emner/TMA4215/2008h/cubicsplines.pdf"
   ]
  },
  {
   "cell_type": "code",
   "execution_count": 304,
   "metadata": {},
   "outputs": [],
   "source": [
    "def test_interpolate(xlow= -3, xhigh=3, steps=10, M=2, method=\"neville\", equation = lambda a: a**3 ):\n",
    "    x1 =  np.linspace(xlow,xhigh, steps)\n",
    "    x2 =  np.linspace(xlow,xhigh, steps*2 -1 )  \n",
    "    y =  equation(x1)\n",
    "    interpolator = interpolate(x1,y)\n",
    "    interpolated = [interpolator.interpolate(i,M=M, method=method) for i in x2]\n",
    "    plt.plot(x2, interpolated, label=\"interpolated\")\n",
    "    plt.plot(x1,y, label=\"original\")\n",
    "    plt.legend()\n",
    "    plt.grid()\n",
    "\n",
    "class interpolate(): \n",
    "    def __init__(self,x,y) -> None:\n",
    "        self.x = x \n",
    "        self.y= y\n",
    "\n",
    "    def neville(self,x,neighbours) -> float:\n",
    "        xvalues = self.x[neighbours]\n",
    "        n = len(xvalues)\n",
    "        pvals = self.y.copy()[neighbours]  \n",
    "        for j in range(1, n):\n",
    "            for i in range(n - j):\n",
    "                pvals[i] = ((x - xvalues[i + j]) * pvals[i] + (xvalues[i] - x) * pvals[i + 1]) / (xvalues[i] - xvalues[i + j])\n",
    "        return pvals[0]\n",
    "    \n",
    "    \n",
    "    def CubicSpline(self,x, neigbours)-> float:\n",
    "        print(neigbours)\n",
    "        x = self.x[neigbours]\n",
    "        y = self.y[neigbours]\n",
    "        \n",
    "        \n",
    "        n = len(x)\n",
    "        h = [x[i+1] -x[i] for i in range(n-1)]\n",
    "        print(len(h))\n",
    "        b = [(1/h[i]) * (y[i+1] -y[i]) for i in range(n-1)]\n",
    "        print(len(b))\n",
    "        v = [2*(h[i-1] +h[i]) for i in range(1,n-1)]\n",
    "        print(len(v))\n",
    "        u = [6*(b[i] -b[i-1]) for i in range(1,n-1)]\n",
    "        print(len(u))\n",
    "        z = [0 for i in range(n-1)]\n",
    "        print(len(z))\n",
    "        \n",
    "        #construct A matrix\n",
    "        A = np.zeros((n,n))\n",
    "        print(np.shape(A))\n",
    "        \n",
    "        \n",
    "        x = z\n",
    "        b = u \n",
    "\n",
    "    \n",
    "    def neighbours(self, x, M) -> list:\n",
    "        slicing_list = self.x \n",
    "        index_list = [index for index in range(0,len(self.x))]\n",
    "        list_len= len(slicing_list)\n",
    "        while list_len > 1: \n",
    "            middle_index = int(np.math.floor(list_len/2))\n",
    "            #update condition\n",
    "            if x > slicing_list[middle_index]:\n",
    "                slicing_list = slicing_list[middle_index:]\n",
    "                index_list = index_list[middle_index:]\n",
    "            else: \n",
    "                slicing_list = slicing_list[:middle_index]\n",
    "                index_list = index_list[:middle_index]\n",
    "            list_len = len(slicing_list)\n",
    "            \n",
    "            \n",
    "        return list(range(int(np.ceil(index_list[0]-M/2)), int(np.ceil(index_list[0]+M/2))))\n",
    "        \n",
    "        \n",
    "    def interpolate(self, x, M=1, method= \"neville\") -> float:\n",
    "        neighbours = self.neighbours(x,M)\n",
    "        \n",
    "        #neville\n",
    "        if method == \"neville\":\n",
    "            try: \n",
    "                return self.neville(x, neighbours)\n",
    "            except (IndexError, ValueError) as e:\n",
    "                print(\"Overflow error happened\")\n",
    "                print(f\"{e}, {e.__class__}\")\n",
    "        if method == \"CubicSpline\":\n",
    "            return self.CubicSpline(x, neighbours)\n",
    "        \"\"\"\n",
    "            except (IndexError, ValueError) as e:\n",
    "                print(\"Overflow error happened\")\n",
    "                print(f\"{e}, {e.__class__}\")\n",
    "        \"\"\""
   ]
  },
  {
   "cell_type": "code",
   "execution_count": 308,
   "metadata": {},
   "outputs": [
    {
     "name": "stdout",
     "output_type": "stream",
     "text": [
      "[0, 1, 2, 3, 4]\n",
      "4\n",
      "4\n",
      "3\n",
      "3\n",
      "4\n"
     ]
    }
   ],
   "source": [
    "x = np.linspace(0,2*np.pi, 12)\n",
    "y = np.sin(x)\n",
    "m = interpolate(x,y)\n",
    "m.interpolate(1.4,M= 5, method=\"CubicSpline\")"
   ]
  },
  {
   "cell_type": "code",
   "execution_count": 300,
   "metadata": {},
   "outputs": [
    {
     "name": "stdout",
     "output_type": "stream",
     "text": [
      "Overflow error happened\n",
      "index 0 is out of bounds for axis 0 with size 0, <class 'IndexError'>\n",
      "Overflow error happened\n",
      "index 0 is out of bounds for axis 0 with size 0, <class 'IndexError'>\n",
      "Overflow error happened\n",
      "index 0 is out of bounds for axis 0 with size 0, <class 'IndexError'>\n",
      "Overflow error happened\n",
      "index 0 is out of bounds for axis 0 with size 0, <class 'IndexError'>\n",
      "Overflow error happened\n",
      "index 0 is out of bounds for axis 0 with size 0, <class 'IndexError'>\n",
      "Overflow error happened\n",
      "index 0 is out of bounds for axis 0 with size 0, <class 'IndexError'>\n",
      "Overflow error happened\n",
      "index 0 is out of bounds for axis 0 with size 0, <class 'IndexError'>\n",
      "Overflow error happened\n",
      "index 0 is out of bounds for axis 0 with size 0, <class 'IndexError'>\n",
      "Overflow error happened\n",
      "index 0 is out of bounds for axis 0 with size 0, <class 'IndexError'>\n",
      "Overflow error happened\n",
      "index 0 is out of bounds for axis 0 with size 0, <class 'IndexError'>\n",
      "Overflow error happened\n",
      "index 0 is out of bounds for axis 0 with size 0, <class 'IndexError'>\n",
      "Overflow error happened\n",
      "index 0 is out of bounds for axis 0 with size 0, <class 'IndexError'>\n",
      "Overflow error happened\n",
      "index 0 is out of bounds for axis 0 with size 0, <class 'IndexError'>\n",
      "Overflow error happened\n",
      "index 0 is out of bounds for axis 0 with size 0, <class 'IndexError'>\n",
      "Overflow error happened\n",
      "index 0 is out of bounds for axis 0 with size 0, <class 'IndexError'>\n",
      "Overflow error happened\n",
      "index 0 is out of bounds for axis 0 with size 0, <class 'IndexError'>\n",
      "Overflow error happened\n",
      "index 0 is out of bounds for axis 0 with size 0, <class 'IndexError'>\n",
      "Overflow error happened\n",
      "index 0 is out of bounds for axis 0 with size 0, <class 'IndexError'>\n",
      "Overflow error happened\n",
      "index 0 is out of bounds for axis 0 with size 0, <class 'IndexError'>\n"
     ]
    },
    {
     "data": {
      "image/png": "[encoded data removed]",
      "text/plain": [
       "<Figure size 640x480 with 1 Axes>"
      ]
     },
     "metadata": {},
     "output_type": "display_data"
    }
   ],
   "source": [
    "#create data and initiate linear interpol\n",
    "for i in range(0,2):\n",
    "    test_interpolate(M=i,method=\"neville\", equation = lambda a: np.sin(a))"
   ]
  },
  {
   "cell_type": "code",
   "execution_count": null,
   "metadata": {},
   "outputs": [],
   "source": []
  }
 ],
 "metadata": {
  "kernelspec": {
   "display_name": "Python 3",
   "language": "python",
   "name": "python3"
  },
  "language_info": {
   "codemirror_mode": {
    "name": "ipython",
    "version": 3
   },
   "file_extension": ".py",
   "mimetype": "text/x-python",
   "name": "python",
   "nbconvert_exporter": "python",
   "pygments_lexer": "ipython3",
   "version": "3.10.10"
  },
  "orig_nbformat": 4,
  "vscode": {
   "interpreter": {
    "hash": "8af21d0dc5db8f8294fcde018aa893b7c0dd63e1fda22b204790ab2e8e08ca91"
   }
  }
 },
 "nbformat": 4,
 "nbformat_minor": 2
}
