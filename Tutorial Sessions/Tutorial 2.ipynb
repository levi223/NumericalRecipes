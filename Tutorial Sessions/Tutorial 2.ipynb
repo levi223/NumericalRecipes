{
 "cells": [
  {
   "cell_type": "markdown",
   "metadata": {},
   "source": [
    "# NUR Turorial 2"
   ]
  },
  {
   "cell_type": "markdown",
   "metadata": {},
   "source": [
    "## 1 One - dimensionsal interpolation"
   ]
  },
  {
   "cell_type": "code",
   "execution_count": 2,
   "metadata": {},
   "outputs": [],
   "source": [
    "import numpy as np\n",
    "import matplotlib.pyplot as plt"
   ]
  },
  {
   "cell_type": "markdown",
   "metadata": {},
   "source": [
    "# A"
   ]
  },
  {
   "cell_type": "code",
   "execution_count": null,
   "metadata": {},
   "outputs": [],
   "source": [
    "#A\n",
    "class LinearInterpol(): \n",
    "    def __init__(self,x,y) -> None:\n",
    "        self.x = np.array(x) \n",
    "        self.y= np.array(y)\n",
    "\n",
    "    def find_closest_lowest_index(self, x) -> int:\n",
    "        slicing_list = self.x \n",
    "        index_list = [index for index in range(0,len(self.x))]\n",
    "        list_len= len(slicing_list)\n",
    "        while list_len > 1: \n",
    "            middle_index = int(np.math.floor(list_len/2))\n",
    "            #update condition\n",
    "            if x > slicing_list[middle_index]:\n",
    "                slicing_list = slicing_list[middle_index:]\n",
    "                index_list = index_list[middle_index:]\n",
    "            else: \n",
    "                slicing_list = slicing_list[:middle_index]\n",
    "                index_list = index_list[:middle_index]\n",
    "            list_len = len(slicing_list)\n",
    "        return index_list[0]\n",
    "\n",
    "    def interpolate(self, x) -> float:\n",
    "        neighbours = self.find_closest_lowest_index(x)\n",
    "        y_left = self.y[neighbours]\n",
    "        y_right = self.y[neighbours+1]\n",
    "        x_left =  self.x[neighbours]\n",
    "        x_right = self.x[neighbours+1]\n",
    "        dydx = (y_right-y_left) / (x_right-x_left)\n",
    "        interpolated_value = y_left + dydx * (x-x_left)\n",
    "        return interpolated_value\n"
   ]
  },
  {
   "cell_type": "code",
   "execution_count": null,
   "metadata": {},
   "outputs": [],
   "source": [
    "#create data and initiate linear interpol\n",
    "x = np.linspace(0,2*np.pi, 12)\n",
    "y = np.sin(x)\n",
    "interpol = LinearInterpol(x,y)\n"
   ]
  },
  {
   "cell_type": "code",
   "execution_count": null,
   "metadata": {},
   "outputs": [],
   "source": [
    "plt.plot(x,y, label=\"real\")\n",
    "for i in np.linspace(0,2*np.pi-0.5, 10):\n",
    "    plt.scatter(i, interpol.interpolate(i), label=\"interpolated\")\n",
    "\n",
    "plt.legend()"
   ]
  },
  {
   "attachments": {},
   "cell_type": "markdown",
   "metadata": {},
   "source": [
    "## B\n",
    "\n",
    "using nevilles algorithm calculate higher order interpolations\n",
    "\n",
    "\n",
    "natural spline = $\\quad S_1''(t_0)=S_n''(t_n)=0$\n",
    "\n",
    "https://www.math.ntnu.no/emner/TMA4215/2008h/cubicsplines.pdf"
   ]
  },
  {
   "cell_type": "code",
   "execution_count": 321,
   "metadata": {},
   "outputs": [
    {
     "name": "stdout",
     "output_type": "stream",
     "text": [
      "5\n",
      "[0, 1, 2, 3, 4]\n"
     ]
    }
   ],
   "source": [
    "print(len(list(range(5))))\n",
    "print(list(range(5)))"
   ]
  },
  {
   "cell_type": "code",
   "execution_count": 527,
   "metadata": {},
   "outputs": [],
   "source": [
    "def test_interpolate(xlow= -3, xhigh=3, steps=10, M=2, method=\"neville\", equation = lambda a: a**3 ):\n",
    "    x1 =  np.linspace(xlow,xhigh, steps)\n",
    "    x2 =  np.linspace(xlow,xhigh, steps*2 -1 )  \n",
    "    y =  equation(x1)\n",
    "    interpolator = interpolate(x1,y)\n",
    "    interpolated = [interpolator.interpolate(i,M=M, method=method) for i in x2]\n",
    "    plt.plot(x2, interpolated, label=\"interpolated\")\n",
    "    plt.plot(x1,y, label=\"original\")\n",
    "    plt.legend()\n",
    "    plt.grid()\n",
    "\n",
    "class interpolate(): \n",
    "    def __init__(self,x,y) -> None:\n",
    "        self.x = np.array(x) \n",
    "        self.y= np.array(y)\n",
    "\n",
    "    def neville(self,x,neighbours) -> float:\n",
    "        xvalues =self.x[neighbours]\n",
    "        n = len(xvalues)\n",
    "        \n",
    "        #calculation\n",
    "        pvals = self.y.copy()[neighbours]  \n",
    "        for j in range(1, n):\n",
    "            for i in range(n - j):\n",
    "                pvals[i] = ((x - xvalues[i + j]) * pvals[i] + (xvalues[i] - x) * pvals[i + 1]) / (xvalues[i] - xvalues[i + j])\n",
    "        return pvals[0]\n",
    "    \n",
    "    \n",
    "    def CubicSpline(self,x,neighbours) -> float:\n",
    "        \n",
    "        xvals = self.x[neighbours]\n",
    "        y = self.y[neighbours]\n",
    "        \n",
    "        n = len(xvals)\n",
    "        h = [xvals[i+1] -xvals[i] for i in range(0,n-1)]\n",
    "        \n",
    "        b = [(1/h[i]) * (y[i+1] -y[i]) for i in range(0,n-1)]\n",
    "        \n",
    "        v = [2*(h[i-1] +h[i]) for i in range(1,n-1)]\n",
    "        \n",
    "        b = [6*(b[i] -b[i-1]) for i in range(1,n-1)]\n",
    "        \n",
    "        z = [0 for i in range(n)]\n",
    "        \n",
    "        #construct A matrix\n",
    "        A = np.zeros((n-2,n-2))\n",
    "        \n",
    "        #filling A and b matrix\n",
    "        np.fill_diagonal(A,v[:n-1])\n",
    "        A = A + np.diag(h[:n-3],1)+ np.diag(h[:n-3],-1)\n",
    "        b = b \n",
    "        \n",
    "        zvals = np.linalg.solve(A,b)\n",
    "        \n",
    "        spline_values=[]\n",
    "        for i in range(0,len(zvals)-1):\n",
    "            spline_values.append((zvals[i+1]/(6*h[i])) (x-xvals[i])**3 + (z[i]/(6*h[i]))* (xvals[i+1]-x)**3 + ((y[i+1]/h[i])-(z[i+1]/6)* h[i])*(x-xvals[i]) + ((y[i]/h[i])-(h[i]/6 * zvals[i]))*(xvals[i+1]-x))\n",
    "            \n",
    "        return spline_values\n",
    "\n",
    "        \n",
    "    \n",
    "    def neighbours(self, x, M) -> list:\n",
    "        slicing_list = self.x \n",
    "        index_list = [index for index in range(0,len(self.x))]\n",
    "        list_len= len(slicing_list)\n",
    "        while list_len > 1: \n",
    "            middle_index = int(np.math.floor(list_len/2))\n",
    "            #update condition\n",
    "            if x > slicing_list[middle_index]:\n",
    "                slicing_list = slicing_list[middle_index:]\n",
    "                index_list = index_list[middle_index:]\n",
    "            else: \n",
    "                slicing_list = slicing_list[:middle_index]\n",
    "                index_list = index_list[:middle_index]\n",
    "            list_len = len(slicing_list)\n",
    "            \n",
    "        return list(range(int(np.ceil(index_list[0]-M/2)), int(np.ceil(index_list[0]+M/2))))\n",
    "        \n",
    "        \n",
    "    def interpolate(self, x, M=1, method= \"neville\") -> float:\n",
    "        #neville\n",
    "        if method == \"neville\":\n",
    "            neighbours = self.neighbours(x,M)\n",
    "            try: \n",
    "                return self.neville(x, neighbours)\n",
    "            except (IndexError, ValueError) as e:\n",
    "                print(\"Overflow error happened\")\n",
    "                print(f\"{e}, {e.__class__}\")\n",
    "        if method == \"CubicSpline\":\n",
    "            neighbours = self.neighbours(x,4)\n",
    "            return self.CubicSpline(x, neighbours)\n",
    "        \"\"\"\n",
    "            except (IndexError, ValueError) as e:\n",
    "                print(\"Overflow error happened\")\n",
    "                print(f\"{e}, {e.__class__}\")\n",
    "        \"\"\""
   ]
  },
  {
   "cell_type": "code",
   "execution_count": 528,
   "metadata": {},
   "outputs": [
    {
     "name": "stdout",
     "output_type": "stream",
     "text": [
      "1.9032031249999997\n"
     ]
    }
   ],
   "source": [
    "x = [0.9,1.3,1.9,2.1,2.6,3]\n",
    "y = [1.3,1.5,1.85,2.1,3,4.1]\n",
    "m = interpolate(x,y)\n",
    "b = m.interpolate(1.95,M= 4, method=\"neville\")\n",
    "print(b)\n"
   ]
  },
  {
   "cell_type": "code",
   "execution_count": 529,
   "metadata": {},
   "outputs": [
    {
     "name": "stdout",
     "output_type": "stream",
     "text": [
      "[1.92553191 1.53191489]\n"
     ]
    },
    {
     "ename": "TypeError",
     "evalue": "'numpy.float64' object is not callable",
     "output_type": "error",
     "traceback": [
      "\u001b[1;31m---------------------------------------------------------------------------\u001b[0m",
      "\u001b[1;31mTypeError\u001b[0m                                 Traceback (most recent call last)",
      "Cell \u001b[1;32mIn[529], line 4\u001b[0m\n\u001b[0;32m      2\u001b[0m y \u001b[39m=\u001b[39m [\u001b[39m1.3\u001b[39m,\u001b[39m1.5\u001b[39m,\u001b[39m1.85\u001b[39m,\u001b[39m2.1\u001b[39m,\u001b[39m3\u001b[39m,\u001b[39m4.1\u001b[39m]\n\u001b[0;32m      3\u001b[0m m \u001b[39m=\u001b[39m interpolate(x,y)\n\u001b[1;32m----> 4\u001b[0m m\u001b[39m.\u001b[39;49minterpolate(\u001b[39m2.6\u001b[39;49m,M\u001b[39m=\u001b[39;49m \u001b[39m5\u001b[39;49m, method\u001b[39m=\u001b[39;49m\u001b[39m\"\u001b[39;49m\u001b[39mCubicSpline\u001b[39;49m\u001b[39m\"\u001b[39;49m)\n",
      "Cell \u001b[1;32mIn[527], line 92\u001b[0m, in \u001b[0;36minterpolate.interpolate\u001b[1;34m(self, x, M, method)\u001b[0m\n\u001b[0;32m     90\u001b[0m \u001b[39mif\u001b[39;00m method \u001b[39m==\u001b[39m \u001b[39m\"\u001b[39m\u001b[39mCubicSpline\u001b[39m\u001b[39m\"\u001b[39m:\n\u001b[0;32m     91\u001b[0m     neighbours \u001b[39m=\u001b[39m \u001b[39mself\u001b[39m\u001b[39m.\u001b[39mneighbours(x,\u001b[39m4\u001b[39m)\n\u001b[1;32m---> 92\u001b[0m     \u001b[39mreturn\u001b[39;00m \u001b[39mself\u001b[39;49m\u001b[39m.\u001b[39;49mCubicSpline(x, neighbours)\n\u001b[0;32m     93\u001b[0m \u001b[39m\u001b[39m\u001b[39m\"\"\"\u001b[39;00m\n\u001b[0;32m     94\u001b[0m \u001b[39m    except (IndexError, ValueError) as e:\u001b[39;00m\n\u001b[0;32m     95\u001b[0m \u001b[39m        print(\"Overflow error happened\")\u001b[39;00m\n\u001b[0;32m     96\u001b[0m \u001b[39m        print(f\"{e}, {e.__class__}\")\u001b[39;00m\n\u001b[0;32m     97\u001b[0m \u001b[39m\"\"\"\u001b[39;00m\n",
      "Cell \u001b[1;32mIn[527], line 57\u001b[0m, in \u001b[0;36minterpolate.CubicSpline\u001b[1;34m(self, x, neighbours)\u001b[0m\n\u001b[0;32m     55\u001b[0m spline_values\u001b[39m=\u001b[39m[]\n\u001b[0;32m     56\u001b[0m \u001b[39mfor\u001b[39;00m i \u001b[39min\u001b[39;00m \u001b[39mrange\u001b[39m(\u001b[39m0\u001b[39m,\u001b[39mlen\u001b[39m(zvals)\u001b[39m-\u001b[39m\u001b[39m1\u001b[39m):\n\u001b[1;32m---> 57\u001b[0m     spline_values\u001b[39m.\u001b[39mappend((zvals[i\u001b[39m+\u001b[39;49m\u001b[39m1\u001b[39;49m]\u001b[39m/\u001b[39;49m(\u001b[39m6\u001b[39;49m\u001b[39m*\u001b[39;49mh[i])) (x\u001b[39m-\u001b[39;49mxvals[i])\u001b[39m*\u001b[39m\u001b[39m*\u001b[39m\u001b[39m3\u001b[39m \u001b[39m+\u001b[39m (z[i]\u001b[39m/\u001b[39m(\u001b[39m6\u001b[39m\u001b[39m*\u001b[39mh[i]))\u001b[39m*\u001b[39m (xvals[i\u001b[39m+\u001b[39m\u001b[39m1\u001b[39m]\u001b[39m-\u001b[39mx)\u001b[39m*\u001b[39m\u001b[39m*\u001b[39m\u001b[39m3\u001b[39m \u001b[39m+\u001b[39m ((y[i\u001b[39m+\u001b[39m\u001b[39m1\u001b[39m]\u001b[39m/\u001b[39mh[i])\u001b[39m-\u001b[39m(z[i\u001b[39m+\u001b[39m\u001b[39m1\u001b[39m]\u001b[39m/\u001b[39m\u001b[39m6\u001b[39m)\u001b[39m*\u001b[39m h[i])\u001b[39m*\u001b[39m(x\u001b[39m-\u001b[39mxvals[i]) \u001b[39m+\u001b[39m ((y[i]\u001b[39m/\u001b[39mh[i])\u001b[39m-\u001b[39m(h[i]\u001b[39m/\u001b[39m\u001b[39m6\u001b[39m \u001b[39m*\u001b[39m zvals[i]))\u001b[39m*\u001b[39m(xvals[i\u001b[39m+\u001b[39m\u001b[39m1\u001b[39m]\u001b[39m-\u001b[39mx))\n\u001b[0;32m     59\u001b[0m \u001b[39mreturn\u001b[39;00m spline_values\n",
      "\u001b[1;31mTypeError\u001b[0m: 'numpy.float64' object is not callable"
     ]
    }
   ],
   "source": [
    "x = [0.9,1.3,1.9,2.1,2.6,3]\n",
    "y = [1.3,1.5,1.85,2.1,3,4.1]\n",
    "m = interpolate(x,y)\n",
    "m.interpolate(2.6,M= 5, method=\"CubicSpline\")"
   ]
  },
  {
   "cell_type": "code",
   "execution_count": null,
   "metadata": {},
   "outputs": [],
   "source": []
  }
 ],
 "metadata": {
  "kernelspec": {
   "display_name": "Python 3",
   "language": "python",
   "name": "python3"
  },
  "language_info": {
   "codemirror_mode": {
    "name": "ipython",
    "version": 3
   },
   "file_extension": ".py",
   "mimetype": "text/x-python",
   "name": "python",
   "nbconvert_exporter": "python",
   "pygments_lexer": "ipython3",
   "version": "3.10.10"
  },
  "orig_nbformat": 4,
  "vscode": {
   "interpreter": {
    "hash": "8af21d0dc5db8f8294fcde018aa893b7c0dd63e1fda22b204790ab2e8e08ca91"
   }
  }
 },
 "nbformat": 4,
 "nbformat_minor": 2
}
