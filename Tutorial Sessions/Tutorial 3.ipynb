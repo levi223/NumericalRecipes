{
 "cells": [
  {
   "attachments": {},
   "cell_type": "markdown",
   "metadata": {},
   "source": [
    "# TUTORIAL 3"
   ]
  },
  {
   "cell_type": "code",
   "execution_count": 436,
   "metadata": {},
   "outputs": [],
   "source": [
    "import numpy as np\n",
    "from pprint import pp"
   ]
  },
  {
   "cell_type": "code",
   "execution_count": 592,
   "metadata": {},
   "outputs": [],
   "source": [
    "class LinalgSolve():\n",
    "    def __init__(self, A, b) -> None:\n",
    "        self.A = np.array(A,dtype=float)\n",
    "        self.b = np.array(b,dtype=float)\n",
    "        self.n = len(self.A)\n",
    "        self.I = [[0] * i + [1] + [0] * (self.n - i - 1) for i in range(self.n)]\n",
    "\n",
    "    def SwapRows(self, A, row1, row2):    \n",
    "        A = np.array(A)\n",
    "        A[[row1, row2]] = A[[row2, row1]]\n",
    "        return A\n",
    "\n",
    "    def GJElimination(self):  # speed : N^3\n",
    "        A =self.A.copy()\n",
    "        b =self.b.copy()\n",
    "        n = len(A) #dim array\n",
    "        \n",
    "        for i in range(0,n-1): #loop over columns except the last one  #i= column , j=row\n",
    "            column = A[i:, i] # only check rows below current row\n",
    "            #setting pivots \n",
    "            if column[0] == 0: #if the A[i,i] diagonal is 0 we switch i with that number with the maximum in that rows\n",
    "                to_be_switched = i + np.argmax(column)\n",
    "                A = self.SwapRows(A,i,to_be_switched)\n",
    "                b = self.SwapRows(b,i,to_be_switched)  \n",
    "                  \n",
    "            #normalize rows  \n",
    "            devider = A[i,i]  \n",
    "            A[i] = A[i] / devider\n",
    "            b[i] = b[i] / devider\n",
    "\n",
    "            #iterate over all values under the diagonal and reduce the column to 0 \n",
    "            for j in range(i+1,n):  \n",
    "                multiplier = A[j,i]  \n",
    "                A[j] = A[j] - (multiplier * A[i])\n",
    "                b[j] = b[j] - (multiplier * b[i])\n",
    "\n",
    "        tempdevider = A[-1,-1]\n",
    "        A[-1] = A[-1] / tempdevider\n",
    "        b[-1] = b[-1]/ tempdevider\n",
    "                \n",
    "        # eliminate all elements above pivot\n",
    "        for i in range(n-1, 0, -1):\n",
    "            for j in range(i):\n",
    "                multiplier = A[j,i]\n",
    "                A[j] = A[j] - (multiplier * A[i])\n",
    "                b[j] = b[j] - (multiplier * b[i]) \n",
    "\n",
    "             # divide last pivot row by pivot element\n",
    "        interA1,intera2 = A[n-1], A[n-1, n-1]\n",
    "        A[n-1] = interA1/ intera2\n",
    "        b[n-1] = b[n-1] / intera2\n",
    "      \n",
    "        return b\n",
    "     "
   ]
  },
  {
   "cell_type": "code",
   "execution_count": 596,
   "metadata": {},
   "outputs": [
    {
     "name": "stdout",
     "output_type": "stream",
     "text": [
      "[0.08333333 1.         1.75       0.08333333 1.75      ]\n"
     ]
    }
   ],
   "source": [
    "ChemMat= np.array([[3,8,1,-12,-4],[1,0,0,-1,-0],[4,4,3,-40,-3],[0,2,1,-3,-2],[0,1,0,-12,-0]])\n",
    "b = [2,0,1,0,0]\n",
    "x = LinalgSolve(ChemMat,b ).GJElimination()\n",
    "print(x)\n",
    "\n",
    "\n"
   ]
  },
  {
   "cell_type": "code",
   "execution_count": 595,
   "metadata": {},
   "outputs": [
    {
     "data": {
      "text/plain": [
       "array([0.08333333, 1.        , 1.75      , 0.08333333, 1.75      ])"
      ]
     },
     "execution_count": 595,
     "metadata": {},
     "output_type": "execute_result"
    }
   ],
   "source": [
    "np.linalg.solve(ChemMat,b)"
   ]
  },
  {
   "cell_type": "code",
   "execution_count": null,
   "metadata": {},
   "outputs": [],
   "source": []
  },
  {
   "cell_type": "code",
   "execution_count": null,
   "metadata": {},
   "outputs": [],
   "source": []
  }
 ],
 "metadata": {
  "kernelspec": {
   "display_name": "Python 3",
   "language": "python",
   "name": "python3"
  },
  "language_info": {
   "codemirror_mode": {
    "name": "ipython",
    "version": 3
   },
   "file_extension": ".py",
   "mimetype": "text/x-python",
   "name": "python",
   "nbconvert_exporter": "python",
   "pygments_lexer": "ipython3",
   "version": "3.10.10"
  },
  "orig_nbformat": 4,
  "vscode": {
   "interpreter": {
    "hash": "8af21d0dc5db8f8294fcde018aa893b7c0dd63e1fda22b204790ab2e8e08ca91"
   }
  }
 },
 "nbformat": 4,
 "nbformat_minor": 2
}
