{
 "cells": [
  {
   "attachments": {},
   "cell_type": "markdown",
   "metadata": {},
   "source": [
    "# TUTORIAL 3"
   ]
  },
  {
   "cell_type": "code",
   "execution_count": 23,
   "metadata": {},
   "outputs": [],
   "source": [
    "import numpy as np\n",
    "from pprint import pp"
   ]
  },
  {
   "cell_type": "code",
   "execution_count": 27,
   "metadata": {},
   "outputs": [],
   "source": [
    "\n",
    "class LinalgSolve():\n",
    "    def __init__(self, A, b) -> None:\n",
    "        self.A = np.array(A)\n",
    "        self.b = np.array(b)\n",
    "        self.n = len(self.A)\n",
    "        self.I = [[0] * i + [1] + [0] * (self.n - i - 1) for i in range(self.n)]\n",
    "\n",
    "\n",
    "    def GJElimination(self):  # speed : N^3\n",
    "        return\n",
    "    \n",
    "    def GaussEleminiation(self, ): #similar to GJ but pivots are not scaled to 1. Reducde to 0 below diagonal\n",
    "        return\n",
    "    \n",
    "    def LUDecomposition(self): #speed : (1/3)N^3 but solving for new b is N^2\n",
    "        return\n",
    "     "
   ]
  },
  {
   "cell_type": "code",
   "execution_count": 31,
   "metadata": {},
   "outputs": [
    {
     "name": "stdout",
     "output_type": "stream",
     "text": [
      "[[1 2 4]\n",
      " [3 4 5]\n",
      " [1 2 4]]\n"
     ]
    }
   ],
   "source": [
    "A=np.array([[1,2,4],[3,4,5],[1,2,4]])\n",
    "b= [1,2,5]\n"
   ]
  },
  {
   "cell_type": "code",
   "execution_count": null,
   "metadata": {},
   "outputs": [],
   "source": []
  }
 ],
 "metadata": {
  "kernelspec": {
   "display_name": "Python 3",
   "language": "python",
   "name": "python3"
  },
  "language_info": {
   "codemirror_mode": {
    "name": "ipython",
    "version": 3
   },
   "file_extension": ".py",
   "mimetype": "text/x-python",
   "name": "python",
   "nbconvert_exporter": "python",
   "pygments_lexer": "ipython3",
   "version": "3.10.10"
  },
  "orig_nbformat": 4,
  "vscode": {
   "interpreter": {
    "hash": "8af21d0dc5db8f8294fcde018aa893b7c0dd63e1fda22b204790ab2e8e08ca91"
   }
  }
 },
 "nbformat": 4,
 "nbformat_minor": 2
}
